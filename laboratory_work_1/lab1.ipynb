{
  "cells": [
    {
      "cell_type": "code",
      "execution_count": 207,
      "metadata": {
        "id": "PgGYm-5gzn30"
      },
      "outputs": [],
      "source": [
        "import numpy as np\n",
        "import pandas as pd\n",
        "import torch\n",
        "import torchvision\n",
        "import torchvision.transforms as transforms\n",
        "import matplotlib.pyplot as plt\n",
        "import math"
      ]
    },
    {
      "cell_type": "code",
      "execution_count": 208,
      "metadata": {
        "id": "MySruacTzqi3"
      },
      "outputs": [],
      "source": [
        "import struct\n",
        "from array import array\n",
        "from os.path  import join"
      ]
    },
    {
      "cell_type": "code",
      "execution_count": 209,
      "metadata": {
        "id": "DWAjp_UeRQDM"
      },
      "outputs": [],
      "source": [
        "class MnistDataloader(object):\n",
        "    def __init__(self, training_images_filepath,training_labels_filepath,\n",
        "                 test_images_filepath, test_labels_filepath):\n",
        "        self.training_images_filepath = training_images_filepath\n",
        "        self.training_labels_filepath = training_labels_filepath\n",
        "        self.test_images_filepath = test_images_filepath\n",
        "        self.test_labels_filepath = test_labels_filepath\n",
        "\n",
        "    def read_images_labels(self, images_filepath, labels_filepath):\n",
        "        labels = []\n",
        "        with open(labels_filepath, 'rb') as file:\n",
        "            magic, size = struct.unpack(\">II\", file.read(8))\n",
        "            if magic != 2049:\n",
        "                raise ValueError('Magic number mismatch, expected 2049, got {}'.format(magic))\n",
        "            labels = array(\"B\", file.read())\n",
        "\n",
        "        with open(images_filepath, 'rb') as file:\n",
        "            magic, size, rows, cols = struct.unpack(\">IIII\", file.read(16))\n",
        "            if magic != 2051:\n",
        "                raise ValueError('Magic number mismatch, expected 2051, got {}'.format(magic))\n",
        "            image_data = array(\"B\", file.read())\n",
        "        images = []\n",
        "        for i in range(size):\n",
        "            images.append([0] * rows * cols)\n",
        "        for i in range(size):\n",
        "            img = np.array(image_data[i * rows * cols:(i + 1) * rows * cols])\n",
        "            img = img.reshape(28, 28)\n",
        "            images[i][:] = img\n",
        "\n",
        "        return images, labels\n",
        "\n",
        "    def load_data(self):\n",
        "        x_train, y_train = self.read_images_labels(self.training_images_filepath, self.training_labels_filepath)\n",
        "        x_test, y_test = self.read_images_labels(self.test_images_filepath, self.test_labels_filepath)\n",
        "        return (x_train, y_train),(x_test, y_test)"
      ]
    },
    {
      "cell_type": "code",
      "execution_count": 210,
      "metadata": {
        "id": "rJXQkBBYRQGj"
      },
      "outputs": [],
      "source": [
        "training_images_filepath = 'train-images-idx3-ubyte'\n",
        "training_labels_filepath = 'train-labels-idx1-ubyte'\n",
        "test_images_filepath = 't10k-images-idx3-ubyte'\n",
        "test_labels_filepath = 't10k-labels-idx1-ubyte'"
      ]
    },
    {
      "cell_type": "code",
      "execution_count": 211,
      "metadata": {
        "id": "LkO2k1bzS1Lv"
      },
      "outputs": [],
      "source": [
        "mnist_dataloader = MnistDataloader(training_images_filepath, training_labels_filepath, test_images_filepath, test_labels_filepath)\n",
        "(x_train, y_train), (x_test, y_test) = mnist_dataloader.load_data()"
      ]
    },
    {
      "cell_type": "code",
      "execution_count": 199,
      "metadata": {
        "id": "KazxTeKZMzvN"
      },
      "outputs": [],
      "source": [
        "class MNISTDataset():\n",
        "  def __init__(self, X, Y):\n",
        "    Y=np.array(Y)\n",
        "    X_0_1 = np.array(X) / 255.0\n",
        "\n",
        "    mean_1 = np.mean(X_0_1)\n",
        "    std_1 = np.std(X_0_1)\n",
        "\n",
        "    X_0_1 = (X_0_1 - mean_1) / std_1\n",
        "\n",
        "    print(X_0_1.shape)\n",
        "\n",
        "    self.X = (X_0_1.reshape(X_0_1.shape[0], X_0_1.shape[1]*X_0_1.shape[2]))\n",
        "\n",
        "    y_ohe = np.zeros((Y.size, 10))\n",
        "    y_ohe[np.arange(Y.size), Y] = 1\n",
        "    self.Y=y_ohe\n",
        "\n",
        "    self.len = len(self.X)\n",
        "\n",
        "  def get_all_batches(self, batch_size):\n",
        "    batches=[]\n",
        "    index=0\n",
        "    while index * batch_size < self.len:\n",
        "      start_idx = index * batch_size\n",
        "      end_idx = (index + 1) * batch_size\n",
        "      if end_idx >= self.len:\n",
        "          break\n",
        "      batches.append(([self.X[start_idx:end_idx], self.Y[start_idx:end_idx]]))\n",
        "      index += 1\n",
        "    return batches"
      ]
    },
    {
      "cell_type": "code",
      "execution_count": 200,
      "metadata": {
        "id": "IGdUXcibxhiX"
      },
      "outputs": [],
      "source": [
        "batch_size=64"
      ]
    },
    {
      "cell_type": "code",
      "execution_count": 201,
      "metadata": {
        "colab": {
          "base_uri": "https://localhost:8080/"
        },
        "id": "fqNMUvNIPNlj",
        "outputId": "bbe219f5-ae27-4979-89ae-1296dc9d50d3"
      },
      "outputs": [
        {
          "name": "stdout",
          "output_type": "stream",
          "text": [
            "(60000, 28, 28)\n",
            "(10000, 28, 28)\n"
          ]
        }
      ],
      "source": [
        "train_data = MNISTDataset(x_train, y_train)\n",
        "\n",
        "test_data = MNISTDataset(x_test, y_test)"
      ]
    },
    {
      "cell_type": "code",
      "execution_count": 202,
      "metadata": {
        "id": "CifXLU6WyzeV"
      },
      "outputs": [],
      "source": [
        "batches=train_data.get_all_batches(batch_size)"
      ]
    },
    {
      "cell_type": "code",
      "execution_count": 212,
      "metadata": {
        "id": "J5MoxUtGf1SM"
      },
      "outputs": [],
      "source": [
        "batch=batches[0]"
      ]
    },
    {
      "cell_type": "code",
      "execution_count": 214,
      "metadata": {
        "colab": {
          "base_uri": "https://localhost:8080/",
          "height": 793
        },
        "id": "8IaMzk5yf0vW",
        "outputId": "82207019-6e7e-4ed1-f496-c507a9e7f4df"
      },
      "outputs": [
        {
          "data": {
            "image/png": "[encoded data removed]",
            "text/plain": [
              "<Figure size 1000x1000 with 25 Axes>"
            ]
          },
          "metadata": {},
          "output_type": "display_data"
        }
      ],
      "source": [
        "fig = plt.figure(figsize=(10, 10))\n",
        "for i in range(25):\n",
        "    ax = fig.add_subplot(5, 5, i + 1, xticks=[], yticks=[])\n",
        "    ax.imshow(np.transpose(batch[0][i].numpy(), (1,2,0)), cmap='gray')\n",
        "    ax.set_title(batch[1][i].item())"
      ]
    },
    {
      "cell_type": "code",
      "execution_count": 215,
      "metadata": {
        "id": "HoZ6g_lT6hRe"
      },
      "outputs": [],
      "source": [
        "class MLPModel():\n",
        "  def __init__(self, alpha, input_size, output_size, hidden_size):\n",
        "    self.alpha=alpha\n",
        "    self.W=np.random.randn(input_size, hidden_size) * np.sqrt(2.0/input_size)\n",
        "    self.V=np.random.randn(hidden_size, output_size)* np.sqrt(2.0/hidden_size)\n",
        "    self.w=np.zeros((1, hidden_size))\n",
        "    self.v=np.zeros((1, output_size))\n",
        "\n",
        "\n",
        "  def relu(self, input):\n",
        "    return np.maximum(0, input)\n",
        "\n",
        "  def reludiff(self, input):\n",
        "    return input > 0\n",
        "\n",
        "  def softmax(self, x):\n",
        "    nums_shifted = x - np.max(x, axis=1, keepdims=True)\n",
        "    nums = np.exp(nums_shifted)\n",
        "    denom = np.sum(nums, axis=1, keepdims=True)\n",
        "    return nums / denom\n",
        "\n",
        "  def cross_entropy_loss(self, y_true, y_pred):\n",
        "    eps = 1e-15\n",
        "    y_pred = np.clip(y_pred, eps, 1. - eps)\n",
        "    return -np.mean(np.sum(y_true * np.log(y_pred), axis=1))\n",
        "\n",
        "\n",
        "  def forward(self, x):\n",
        "    self.s=np.dot(x, self.W)+self.w\n",
        "    self.z=self.relu(self.s)\n",
        "    t=np.dot(self.z, self.V)+self.v\n",
        "    g=self.softmax(t)\n",
        "    return g\n",
        "\n",
        "  def backward(self, x, y_pred, y_true):\n",
        "    y_true=np.array(y_true)\n",
        "    self.dz2 = (y_pred - y_true) / batch_size\n",
        "\n",
        "    self.dV = np.dot(self.z.T, self.dz2)\n",
        "    self.dv = np.sum(self.dz2, axis=0, keepdims=True)\n",
        "\n",
        "    self.dz1 = np.dot(self.dz2, self.V.T) * self.reludiff(self.s)\n",
        "    self.dW = np.dot(x.T, self.dz1)\n",
        "    self.dw = np.sum(self.dz1, axis=0, keepdims=True)\n",
        "\n",
        "  def optimization_step(self):\n",
        "    self.W -= self.alpha * self.dW\n",
        "    self.w -= self.alpha * self.dw\n",
        "    self.V -= self.alpha * self.dV\n",
        "    self.v -= self.alpha * self.dv\n",
        "\n",
        "  def fit(self, epochs):\n",
        "    losses_train=[]\n",
        "    losses_test=[]\n",
        "    accuracy_test=[]\n",
        "    batches_train = train_data.get_all_batches(100)\n",
        "    batches_test = test_data.get_all_batches(100)\n",
        "    for epoch in range(epochs):\n",
        "      loss_epoch_train=0\n",
        "      loss_epoch_test=0\n",
        "      acc_test=0\n",
        "      acc_train=0\n",
        "      for train_batch in batches_train:\n",
        "        x, y = np.array(train_batch[0]), train_batch[1]\n",
        "        output = self.forward(x)\n",
        "        loss = self.cross_entropy_loss(output, y)\n",
        "\n",
        "        self.backward(x, output, y)\n",
        "\n",
        "        self.optimization_step()\n",
        "\n",
        "        loss_epoch_train+=loss\n",
        "        true = np.argmax(np.array(y), axis=1)\n",
        "        pred = np.argmax(output, axis=1)\n",
        "        accuracy = np.sum(true == pred)\n",
        "        acc_train+=accuracy\n",
        "\n",
        "      for test_batch in batches_test:\n",
        "        x, y = np.array(test_batch[0]), test_batch[1]\n",
        "        output = self.forward(x)\n",
        "        loss = self.cross_entropy_loss(output, y)\n",
        "        loss_epoch_test+=loss\n",
        "\n",
        "        true = np.argmax(np.array(y), axis=1)\n",
        "        pred = np.argmax(output, axis=1)\n",
        "        accuracy = np.sum(true == pred)\n",
        "        acc_test+=accuracy\n",
        "\n",
        "      print(\"epoch \", epoch)\n",
        "      print(\"train loss:\", loss_epoch_train * batch_size / train_data.len)\n",
        "      print(\"train accuracy:\", acc_train * 100/ train_data.len,\"%\")\n",
        "      print(\"test loss:\", loss_epoch_test * batch_size / test_data.len)\n",
        "      print(\"test accuracy:\", acc_test * 100/ test_data.len, \"%\")\n",
        "      print(\"~~~~~~~~~~~~\")\n",
        "      losses_train.append(loss_epoch_train * batch_size / train_data.len)\n",
        "      losses_test.append(loss_epoch_test * batch_size / train_data.len)\n",
        "      accuracy_test.append(acc_test * 100/ test_data.len)\n",
        "\n",
        "    return losses_train, losses_test, accuracy_test\n"
      ]
    },
    {
      "cell_type": "code",
      "execution_count": 216,
      "metadata": {
        "id": "MQovMyzh64V-"
      },
      "outputs": [],
      "source": [
        "model = MLPModel(0.1, 28*28, 10, 300)"
      ]
    },
    {
      "cell_type": "code",
      "execution_count": 217,
      "metadata": {
        "colab": {
          "base_uri": "https://localhost:8080/"
        },
        "id": "L_c3o7DZ5paM",
        "outputId": "de49ad38-35e0-4fe4-8369-c423d5d1643f"
      },
      "outputs": [
        {
          "name": "stdout",
          "output_type": "stream",
          "text": [
            "epoch  0\n",
            "train loss: 2.5046225031789686\n",
            "train accuracy: 92.97833333333334 %\n",
            "test loss: 1.48240347767223\n",
            "test accuracy: 95.08 %\n",
            "~~~~~~~~~~~~\n",
            "epoch  1\n",
            "train loss: 1.1409606556709364\n",
            "train accuracy: 97.08833333333334 %\n",
            "test loss: 1.1097098200476225\n",
            "test accuracy: 95.81 %\n",
            "~~~~~~~~~~~~\n",
            "epoch  2\n",
            "train loss: 0.8122590976053686\n",
            "train accuracy: 98.03666666666666 %\n",
            "test loss: 0.925608646382545\n",
            "test accuracy: 96.26 %\n",
            "~~~~~~~~~~~~\n",
            "epoch  3\n",
            "train loss: 0.6147536820392164\n",
            "train accuracy: 98.59 %\n",
            "test loss: 0.8213307882231802\n",
            "test accuracy: 96.53 %\n",
            "~~~~~~~~~~~~\n",
            "epoch  4\n",
            "train loss: 0.47745176513345994\n",
            "train accuracy: 99.03833333333333 %\n",
            "test loss: 0.753991115901374\n",
            "test accuracy: 96.65 %\n",
            "~~~~~~~~~~~~\n",
            "epoch  5\n",
            "train loss: 0.37619693159062734\n",
            "train accuracy: 99.32166666666667 %\n",
            "test loss: 0.6967475511386689\n",
            "test accuracy: 96.84 %\n",
            "~~~~~~~~~~~~\n",
            "epoch  6\n",
            "train loss: 0.29910426554168945\n",
            "train accuracy: 99.53166666666667 %\n",
            "test loss: 0.6581564799324755\n",
            "test accuracy: 96.88 %\n",
            "~~~~~~~~~~~~\n",
            "epoch  7\n",
            "train loss: 0.23944692410507581\n",
            "train accuracy: 99.64 %\n",
            "test loss: 0.6180514618092513\n",
            "test accuracy: 96.98 %\n",
            "~~~~~~~~~~~~\n",
            "epoch  8\n",
            "train loss: 0.1934449314941907\n",
            "train accuracy: 99.72833333333334 %\n",
            "test loss: 0.5921549652619547\n",
            "test accuracy: 97.06 %\n",
            "~~~~~~~~~~~~\n",
            "epoch  9\n",
            "train loss: 0.15867401654507893\n",
            "train accuracy: 99.76166666666667 %\n",
            "test loss: 0.5666270887676074\n",
            "test accuracy: 97.1 %\n",
            "~~~~~~~~~~~~\n",
            "epoch  10\n",
            "train loss: 0.13191710466501502\n",
            "train accuracy: 99.79333333333334 %\n",
            "test loss: 0.5486630476393132\n",
            "test accuracy: 97.11 %\n",
            "~~~~~~~~~~~~\n",
            "epoch  11\n",
            "train loss: 0.11088433636989097\n",
            "train accuracy: 99.81166666666667 %\n",
            "test loss: 0.5351559566380157\n",
            "test accuracy: 97.11 %\n",
            "~~~~~~~~~~~~\n",
            "epoch  12\n",
            "train loss: 0.09502817427346714\n",
            "train accuracy: 99.81833333333333 %\n",
            "test loss: 0.5243927359481863\n",
            "test accuracy: 97.12 %\n",
            "~~~~~~~~~~~~\n",
            "epoch  13\n",
            "train loss: 0.0827799535450881\n",
            "train accuracy: 99.82166666666667 %\n",
            "test loss: 0.5151952891516663\n",
            "test accuracy: 97.11 %\n",
            "~~~~~~~~~~~~\n",
            "epoch  14\n",
            "train loss: 0.07296529231735996\n",
            "train accuracy: 99.82666666666667 %\n",
            "test loss: 0.5072682663609963\n",
            "test accuracy: 97.12 %\n",
            "~~~~~~~~~~~~\n",
            "epoch  15\n",
            "train loss: 0.06505003927946602\n",
            "train accuracy: 99.83 %\n",
            "test loss: 0.49998606630402836\n",
            "test accuracy: 97.13 %\n",
            "~~~~~~~~~~~~\n",
            "epoch  16\n",
            "train loss: 0.05857902023614362\n",
            "train accuracy: 99.83 %\n",
            "test loss: 0.493851519952275\n",
            "test accuracy: 97.14 %\n",
            "~~~~~~~~~~~~\n",
            "epoch  17\n",
            "train loss: 0.053123075911039264\n",
            "train accuracy: 99.83 %\n",
            "test loss: 0.4882703955580124\n",
            "test accuracy: 97.15 %\n",
            "~~~~~~~~~~~~\n",
            "epoch  18\n",
            "train loss: 0.04851603131942793\n",
            "train accuracy: 99.83166666666666 %\n",
            "test loss: 0.4831962056739105\n",
            "test accuracy: 97.16 %\n",
            "~~~~~~~~~~~~\n",
            "epoch  19\n",
            "train loss: 0.04458434538468557\n",
            "train accuracy: 99.83166666666666 %\n",
            "test loss: 0.4787224913636469\n",
            "test accuracy: 97.18 %\n",
            "~~~~~~~~~~~~\n"
          ]
        }
      ],
      "source": [
        "metrics = model.fit(20)"
      ]
    }
  ],
  "metadata": {
    "colab": {
      "provenance": []
    },
    "kernelspec": {
      "display_name": "Python 3",
      "name": "python3"
    },
    "language_info": {
      "name": "python"
    }
  },
  "nbformat": 4,
  "nbformat_minor": 0
}
